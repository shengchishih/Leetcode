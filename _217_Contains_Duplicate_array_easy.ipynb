{
  "nbformat": 4,
  "nbformat_minor": 0,
  "metadata": {
    "colab": {
      "provenance": [],
      "authorship_tag": "ABX9TyMPpV9eJ70HLyJHEoG5zCP6",
      "include_colab_link": true
    },
    "kernelspec": {
      "name": "python3",
      "display_name": "Python 3"
    },
    "language_info": {
      "name": "python"
    }
  },
  "cells": [
    {
      "cell_type": "markdown",
      "metadata": {
        "id": "view-in-github",
        "colab_type": "text"
      },
      "source": [
        "<a href=\"https://colab.research.google.com/github/shengchishih/Leetcode/blob/main/_217_Contains_Duplicate_array_easy.ipynb\" target=\"_parent\"><img src=\"https://colab.research.google.com/assets/colab-badge.svg\" alt=\"Open In Colab\"/></a>"
      ]
    },
    {
      "cell_type": "markdown",
      "source": [
        "Given an integer array nums, return true if any value appears at least twice in the array, and return false if every element is distinct.\n",
        "\n",
        "Example 1:\n",
        "\n",
        "Input: nums = [1,2,3,1]\n",
        "\n",
        "Output: true\n",
        "\n",
        "Example 2:\n",
        "\n",
        "Input: nums = [1,2,3,4]\n",
        "\n",
        "Output: false\n",
        "\n",
        "Example 3:\n",
        "\n",
        "Input: nums = [1,1,1,3,3,4,3,2,4,2]\n",
        "\n",
        "Output: true"
      ],
      "metadata": {
        "id": "R2nk2KT8MS7w"
      }
    },
    {
      "cell_type": "code",
      "execution_count": null,
      "metadata": {
        "id": "wc3KMYvUMSLC"
      },
      "outputs": [],
      "source": [
        " def containsDuplicate(nums):\n",
        "  while len(nums)>1:\n",
        "    a=nums[0]\n",
        "    del nums[0]\n",
        "    if a in nums:\n",
        "      return True\n",
        "      break\n",
        "    #else:\n",
        "    #   nums=[i for i in nums if i !=a]\n",
        "  if len(nums)==1:\n",
        "    return False\n"
      ]
    },
    {
      "cell_type": "code",
      "source": [
        "def containsDuplicate1(nums):\n",
        "  return len(nums) != len(set(nums))"
      ],
      "metadata": {
        "id": "FYwEstnvTVEH"
      },
      "execution_count": null,
      "outputs": []
    },
    {
      "cell_type": "code",
      "source": [
        "nums1=[1,2,3,1]\n",
        "nums2=[1,2,3,4]\n",
        "nums3=[1,1,1,3,3,4,3,2,4,2]"
      ],
      "metadata": {
        "id": "0F6_5gR0Mbeb"
      },
      "execution_count": null,
      "outputs": []
    },
    {
      "cell_type": "code",
      "source": [
        "len(set(nums1))"
      ],
      "metadata": {
        "colab": {
          "base_uri": "https://localhost:8080/"
        },
        "id": "zfuzuQrVOULU",
        "outputId": "ee9070b7-c00e-486a-b214-954ec074d9f7"
      },
      "execution_count": null,
      "outputs": [
        {
          "output_type": "execute_result",
          "data": {
            "text/plain": [
              "3"
            ]
          },
          "metadata": {},
          "execution_count": 72
        }
      ]
    },
    {
      "cell_type": "code",
      "source": [],
      "metadata": {
        "id": "BnqQGAwXPSZ5"
      },
      "execution_count": null,
      "outputs": []
    },
    {
      "cell_type": "code",
      "source": [
        "containsDuplicate1(nums3)"
      ],
      "metadata": {
        "colab": {
          "base_uri": "https://localhost:8080/"
        },
        "id": "UxjWJrXfOKCN",
        "outputId": "15e7a26f-488e-4cd9-f357-21dce40257aa"
      },
      "execution_count": null,
      "outputs": [
        {
          "output_type": "execute_result",
          "data": {
            "text/plain": [
              "True"
            ]
          },
          "metadata": {},
          "execution_count": 78
        }
      ]
    },
    {
      "cell_type": "code",
      "source": [],
      "metadata": {
        "id": "874W3894OMdr"
      },
      "execution_count": null,
      "outputs": []
    }
  ]
}