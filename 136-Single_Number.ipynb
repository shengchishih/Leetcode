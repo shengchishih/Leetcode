{
  "nbformat": 4,
  "nbformat_minor": 0,
  "metadata": {
    "colab": {
      "provenance": [],
      "authorship_tag": "ABX9TyMBtvaL+oaTtvWydDTqm9Eb",
      "include_colab_link": true
    },
    "kernelspec": {
      "name": "python3",
      "display_name": "Python 3"
    },
    "language_info": {
      "name": "python"
    }
  },
  "cells": [
    {
      "cell_type": "markdown",
      "metadata": {
        "id": "view-in-github",
        "colab_type": "text"
      },
      "source": [
        "<a href=\"https://colab.research.google.com/github/shengchishih/Leetcode/blob/main/136-Single_Number.ipynb\" target=\"_parent\"><img src=\"https://colab.research.google.com/assets/colab-badge.svg\" alt=\"Open In Colab\"/></a>"
      ]
    },
    {
      "cell_type": "markdown",
      "source": [
        "Given a non-empty array of integers nums, every element appears twice except for one. Find that single one.\n",
        "\n",
        "You must implement a solution with a linear runtime complexity and use only constant extra space.\n",
        "\n",
        "Example 1:\n",
        "\n",
        "Input: nums = [2,2,1]\n",
        "\n",
        "Output: 1\n",
        "\n",
        "Example 2:\n",
        "\n",
        "Input: nums = [4,1,2,1,2]\n",
        "\n",
        "Output: 4\n",
        "\n",
        "Example 3:\n",
        "\n",
        "Input: nums = [1]\n",
        "\n",
        "Output: 1"
      ],
      "metadata": {
        "id": "VsoyXLtrqcnb"
      }
    },
    {
      "cell_type": "code",
      "execution_count": null,
      "metadata": {
        "id": "mmESDsHvqWN3"
      },
      "outputs": [],
      "source": [
        " def singleNumber(nums):\n",
        "  while len(nums)>1:\n",
        "    num=nums[0]\n",
        "    if num in nums[1:len(nums)-1]:\n",
        "      nums.remove(num)\n",
        "  return nums[0]\n",
        "\n"
      ]
    },
    {
      "cell_type": "code",
      "source": [
        "def singleNumber(nums):\n",
        "  r=0\n",
        "  for num in nums:\n",
        "    print(r)\n",
        "    r^=num\n",
        "  return r\n",
        "\n",
        "\n",
        "\n"
      ],
      "metadata": {
        "id": "qnn6Hw2-0TSp"
      },
      "execution_count": null,
      "outputs": []
    },
    {
      "cell_type": "code",
      "source": [
        "nums1=[2,2,1]\n",
        "nums2=[4,1,2,1,2]\n",
        "nums3=[1]"
      ],
      "metadata": {
        "id": "OkMPcU-iq98w"
      },
      "execution_count": null,
      "outputs": []
    },
    {
      "cell_type": "code",
      "source": [
        "singleNumber(nums2)\n",
        "\n"
      ],
      "metadata": {
        "colab": {
          "base_uri": "https://localhost:8080/"
        },
        "id": "ZXMe-aNYtWN4",
        "outputId": "78d141ac-4bf4-411e-e309-050d64716276"
      },
      "execution_count": null,
      "outputs": [
        {
          "output_type": "stream",
          "name": "stdout",
          "text": [
            "0\n",
            "4\n",
            "5\n",
            "7\n",
            "6\n"
          ]
        },
        {
          "output_type": "execute_result",
          "data": {
            "text/plain": [
              "4"
            ]
          },
          "metadata": {},
          "execution_count": 56
        }
      ]
    },
    {
      "cell_type": "markdown",
      "source": [],
      "metadata": {
        "id": "ks4fIZFmqbiM"
      }
    }
  ]
}