{
  "nbformat": 4,
  "nbformat_minor": 0,
  "metadata": {
    "colab": {
      "provenance": [],
      "authorship_tag": "ABX9TyOSXYyLFq3PIEU7F/WPYgvH",
      "include_colab_link": true
    },
    "kernelspec": {
      "name": "python3",
      "display_name": "Python 3"
    },
    "language_info": {
      "name": "python"
    }
  },
  "cells": [
    {
      "cell_type": "markdown",
      "metadata": {
        "id": "view-in-github",
        "colab_type": "text"
      },
      "source": [
        "<a href=\"https://colab.research.google.com/github/shengchishih/Leetcode/blob/main/26-Remove_Duplicates_from_Sorted_Array_easy.ipynb\" target=\"_parent\"><img src=\"https://colab.research.google.com/assets/colab-badge.svg\" alt=\"Open In Colab\"/></a>"
      ]
    },
    {
      "cell_type": "markdown",
      "source": [
        "Given an integer array nums sorted in non-decreasing order, remove the duplicates in-place such that each unique element appears only once. The relative order of the elements should be kept the same. Then return the number of unique elements in nums.\n",
        "\n",
        "Consider the number of unique elements of nums to be k, to get accepted, you need to do the following things:\n",
        "\n",
        "* Change the array nums such that the first k elements of nums contain the unique elements in the order they were present in nums initially. The remaining elements of nums are not important as well as the size of nums.\n",
        "\n",
        "* Return k.\n",
        "\n",
        "Example 1:\n",
        "\n",
        "Input: nums = [1,1,2]\n",
        "\n",
        "Output: 2, nums = [1,2,_]\n",
        "\n",
        "Explanation: Your function should return k = 2, with the first two elements of nums being 1 and 2 respectively.\n",
        "It does not matter what you leave beyond the returned k (hence they are underscores).\n",
        "\n",
        "Example 2:\n",
        "\n",
        "Input: nums = [0,0,1,1,1,2,2,3,3,4]\n",
        "\n",
        "Output: 5, nums = [0,1,2,3,4,_,_,_,_,_]\n",
        "\n",
        "Explanation: Your function should return k = 5, with the first five elements of nums being 0, 1, 2, 3, and 4 respectively.\n",
        "It does not matter what you leave beyond the returned k (hence they are underscores)."
      ],
      "metadata": {
        "id": "S9NuAhuPkTrY"
      }
    },
    {
      "cell_type": "code",
      "source": [
        "def removeDuplicates(nums):\n",
        "  nums_new=[]\n",
        "  for i in range(len(nums)):\n",
        "    if nums[i] not in nums_new:\n",
        "      nums_new.append(nums[i])\n",
        "  nums= nums_new\n",
        "  return len(nums)\n",
        "#this code is not correct as it changes the length of nums\n"
      ],
      "metadata": {
        "id": "D5XoAsFCkU5h"
      },
      "execution_count": null,
      "outputs": []
    },
    {
      "cell_type": "code",
      "source": [
        "def removeDuplicates1(nums):\n",
        "  if not nums:\n",
        "    return 0 #if nums is empty then return 0\n",
        "\n",
        "  count=0\n",
        "  for i in range(len(nums)):\n",
        "    if nums[i] != nums[count]:\n",
        "      count += 1\n",
        "      nums[count]=nums[i] #update nums\n",
        "  return count+1"
      ],
      "metadata": {
        "id": "v-je0cc7vbLS"
      },
      "execution_count": null,
      "outputs": []
    },
    {
      "cell_type": "code",
      "source": [
        "nums1=[1,1,2]\n",
        "nums2=[0,0,1,1,1,2,2,3,3,4]"
      ],
      "metadata": {
        "id": "FOusQ5W-nECU"
      },
      "execution_count": null,
      "outputs": []
    },
    {
      "cell_type": "code",
      "source": [
        "removeDuplicates1(nums2)"
      ],
      "metadata": {
        "colab": {
          "base_uri": "https://localhost:8080/"
        },
        "id": "iXtytKQ7nMDO",
        "outputId": "fd3da863-d37c-41b2-8311-e38c5750a2a5"
      },
      "execution_count": null,
      "outputs": [
        {
          "output_type": "execute_result",
          "data": {
            "text/plain": [
              "[0, 1, 2, 3, 4, 2, 2, 3, 3, 4]"
            ]
          },
          "metadata": {},
          "execution_count": 27
        }
      ]
    },
    {
      "cell_type": "code",
      "source": [
        "nums=[1,2]\n",
        "nums.append(3)\n",
        "print(nums)\n"
      ],
      "metadata": {
        "colab": {
          "base_uri": "https://localhost:8080/"
        },
        "id": "VtwKqVlXltxu",
        "outputId": "5acd83e9-33d6-4d81-99e1-709b6a6203a4"
      },
      "execution_count": null,
      "outputs": [
        {
          "output_type": "stream",
          "name": "stdout",
          "text": [
            "[1, 2, 3]\n"
          ]
        }
      ]
    }
  ]
}