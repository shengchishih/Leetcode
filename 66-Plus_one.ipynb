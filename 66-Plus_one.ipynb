{
  "nbformat": 4,
  "nbformat_minor": 0,
  "metadata": {
    "colab": {
      "provenance": [],
      "authorship_tag": "ABX9TyMdpmidN5qttZN0mK/ebPlh",
      "include_colab_link": true
    },
    "kernelspec": {
      "name": "python3",
      "display_name": "Python 3"
    },
    "language_info": {
      "name": "python"
    }
  },
  "cells": [
    {
      "cell_type": "markdown",
      "metadata": {
        "id": "view-in-github",
        "colab_type": "text"
      },
      "source": [
        "<a href=\"https://colab.research.google.com/github/shengchishih/Leetcode/blob/main/66-Plus_one.ipynb\" target=\"_parent\"><img src=\"https://colab.research.google.com/assets/colab-badge.svg\" alt=\"Open In Colab\"/></a>"
      ]
    },
    {
      "cell_type": "markdown",
      "source": [
        "You are given a large integer represented as an integer array digits, where each digits$[i]$ is the ith digit of the integer. The digits are ordered from most significant to least significant in left-to-right order. The large integer does not contain any leading 0's.\n",
        "\n",
        "Increment the large integer by one and return the resulting array of digits.\n",
        "\n",
        "\n",
        "\n",
        "Example 1:\n",
        "\n",
        "Input: digits = [1,2,3]\n",
        "\n",
        "Output: [1,2,4]\n",
        "\n",
        "Explanation: The array represents the integer 123.\n",
        "Incrementing by one gives 123 + 1 = 124.\n",
        "Thus, the result should be [1,2,4].\n",
        "\n",
        "Example 2:\n",
        "\n",
        "Input: digits = [4,3,2,1]\n",
        "\n",
        "Output: [4,3,2,2]\n",
        "\n",
        "Explanation: The array represents the integer 4321.\n",
        "Incrementing by one gives 4321 + 1 = 4322.\n",
        "Thus, the result should be [4,3,2,2].\n",
        "\n",
        "Example 3:\n",
        "\n",
        "Input: digits = [9]\n",
        "\n",
        "Output: [1,0]\n",
        "\n",
        "Explanation: The array represents the integer 9.\n",
        "Incrementing by one gives 9 + 1 = 10.\n",
        "Thus, the result should be [1,0]."
      ],
      "metadata": {
        "id": "zt_5PhrVB6ME"
      }
    },
    {
      "cell_type": "code",
      "source": [
        "import numpy as np"
      ],
      "metadata": {
        "id": "-lWR0g_kDoAn"
      },
      "execution_count": null,
      "outputs": []
    },
    {
      "cell_type": "code",
      "execution_count": null,
      "metadata": {
        "id": "pWeKU0pGBvcj"
      },
      "outputs": [],
      "source": [
        "def plusOne(digits):\n",
        "  if digits[-1]!=9:\n",
        "    digits[-1]=digits[-1]+1\n",
        "  else:# deal with Example 3\n",
        "\n",
        "  return digits"
      ]
    },
    {
      "cell_type": "code",
      "source": [
        "def plusOne1(digits):\n",
        "  d=digits[::-1]\n",
        "  d[0]+=1\n",
        "  for i in range(len(digits)):\n",
        "    if d[i]>9:\n",
        "      d[i]-=10\n",
        "      if i!= len(digits)-1:\n",
        "        d[i+1]+=1\n",
        "      else:\n",
        "        d.append(1)\n",
        "  return d[::-1]"
      ],
      "metadata": {
        "id": "2b13SxxVV2q9"
      },
      "execution_count": null,
      "outputs": []
    },
    {
      "cell_type": "code",
      "source": [
        "digits1=[1,2,3]\n",
        "digits2=[4,3,2,1]\n",
        "digits3=[9]"
      ],
      "metadata": {
        "id": "8u1p2vu7C0hD"
      },
      "execution_count": null,
      "outputs": []
    },
    {
      "cell_type": "code",
      "source": [
        "plusOne1(digits3)"
      ],
      "metadata": {
        "colab": {
          "base_uri": "https://localhost:8080/"
        },
        "id": "1B7RtebUDQhy",
        "outputId": "e811c8ae-290e-4000-e057-28893fc58e99"
      },
      "execution_count": null,
      "outputs": [
        {
          "output_type": "execute_result",
          "data": {
            "text/plain": [
              "[1, 0]"
            ]
          },
          "metadata": {},
          "execution_count": 20
        }
      ]
    },
    {
      "cell_type": "code",
      "source": [
        "dig=[1,9]\n",
        "dig_1=dig[::-1]\n",
        "dig_1[0]+=1\n",
        "dig_1[0]-=10\n",
        "dig_1"
      ],
      "metadata": {
        "colab": {
          "base_uri": "https://localhost:8080/"
        },
        "id": "jEmydbIqC_L3",
        "outputId": "8585520f-a4c6-4b73-c44f-05f9d7982f7b"
      },
      "execution_count": null,
      "outputs": [
        {
          "output_type": "execute_result",
          "data": {
            "text/plain": [
              "[0, 1]"
            ]
          },
          "metadata": {},
          "execution_count": 12
        }
      ]
    }
  ]
}