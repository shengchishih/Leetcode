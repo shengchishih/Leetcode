{
  "cells": [
    {
      "cell_type": "markdown",
      "metadata": {
        "id": "view-in-github",
        "colab_type": "text"
      },
      "source": [
        "<a href=\"https://colab.research.google.com/github/shengchishih/Leetcode/blob/main/121-Best_Time_to_Buy_and_Sell_Stock_array_easy.ipynb\" target=\"_parent\"><img src=\"https://colab.research.google.com/assets/colab-badge.svg\" alt=\"Open In Colab\"/></a>"
      ]
    },
    {
      "cell_type": "markdown",
      "metadata": {
        "id": "DjMUwhD1-737"
      },
      "source": [
        "You are given an array prices where prices[i] is the price of a given stock on the ith day.\n",
        "\n",
        "You want to maximize your profit by choosing a single day to buy one stock and choosing a different day in the future to sell that stock.\n",
        "\n",
        "Return the maximum profit you can achieve from this transaction. If you cannot achieve any profit, return 0.\n",
        "\n",
        "Example 1:\n",
        "\n",
        "Input: prices = [7,1,5,3,6,4]\n",
        "\n",
        "Output: 5\n",
        "\n",
        "Explanation: Buy on day 2 (price = 1) and sell on day 5 (price = 6), profit = 6-1 = 5. Note that buying on day 2 and selling on day 1 is not allowed because you must buy before you sell.\n",
        "\n",
        "Example 2:\n",
        "\n",
        "Input: prices = [7,6,4,3,1]\n",
        "\n",
        "Output: 0\n",
        "\n",
        "Explanation: In this case, no transactions are done and the max profit = 0."
      ]
    },
    {
      "cell_type": "code",
      "execution_count": null,
      "metadata": {
        "id": "UuA20_m5BBzI"
      },
      "outputs": [],
      "source": [
        "def maxProfit(prices):\n",
        "  while len(prices)>1 and prices.index(min(prices))>= prices.index(max(prices)):\n",
        "    del prices[prices.index(max(prices))]\n",
        "  if len(prices)<=1:\n",
        "    return 0\n",
        "  else:\n",
        "    return max(prices)-min(prices)"
      ]
    },
    {
      "cell_type": "code",
      "execution_count": null,
      "metadata": {
        "colab": {
          "background_save": true
        },
        "id": "EJBDBXboYF1C"
      },
      "outputs": [],
      "source": [
        "def maxProfit(prices):\n",
        "  max_prof=0\n",
        "  while len(prices)>1:\n",
        "    buy=prices[0]\n",
        "    del prices[0]\n",
        "    if max(prices)-buy>max_prof:\n",
        "      max_prof=max(prices)-buy\n",
        "  return max_prof\n",
        "\n",
        "# OK but slower than the one below"
      ]
    },
    {
      "cell_type": "code",
      "execution_count": null,
      "metadata": {
        "id": "G0zJhdUiof_H"
      },
      "outputs": [],
      "source": [
        "def maxProfit1(prices):\n",
        "  max_prof=0\n",
        "  if prices:\n",
        "    buy=prices[0]\n",
        "  else:\n",
        "    buy=0\n",
        "  for i in prices:\n",
        "    max_prof=max(max_prof,i-buy)\n",
        "    buy=min(buy, i)\n",
        "  return max_prof"
      ]
    },
    {
      "cell_type": "code",
      "execution_count": null,
      "metadata": {
        "id": "ujLexljz-17_"
      },
      "outputs": [],
      "source": [
        "price1=[7,1,5,3,6,4]\n",
        "price2=[7,6,4,3,1]\n",
        "price3=[2,4,1]\n"
      ]
    },
    {
      "cell_type": "code",
      "execution_count": null,
      "metadata": {
        "colab": {
          "base_uri": "https://localhost:8080/"
        },
        "id": "oufweUhu_zob",
        "outputId": "eabee498-0684-44ca-f0bf-0f82179c5bd8"
      },
      "outputs": [
        {
          "data": {
            "text/plain": [
              "5"
            ]
          },
          "execution_count": 32,
          "metadata": {},
          "output_type": "execute_result"
        }
      ],
      "source": [
        "maxProfit1(price1)"
      ]
    },
    {
      "cell_type": "code",
      "execution_count": null,
      "metadata": {
        "id": "GstsXKO8_47E"
      },
      "outputs": [],
      "source": []
    },
    {
      "cell_type": "code",
      "execution_count": null,
      "metadata": {
        "id": "C1KdIXUn_1US"
      },
      "outputs": [],
      "source": []
    }
  ],
  "metadata": {
    "colab": {
      "provenance": [],
      "authorship_tag": "ABX9TyNb/rPW3oaA4+QlbG/6lTPQ",
      "include_colab_link": true
    },
    "kernelspec": {
      "display_name": "Python 3",
      "name": "python3"
    },
    "language_info": {
      "name": "python"
    }
  },
  "nbformat": 4,
  "nbformat_minor": 0
}