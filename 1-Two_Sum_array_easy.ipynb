{
  "nbformat": 4,
  "nbformat_minor": 0,
  "metadata": {
    "colab": {
      "provenance": [],
      "authorship_tag": "ABX9TyPLjICwNNSZQt4lqoGMww6k",
      "include_colab_link": true
    },
    "kernelspec": {
      "name": "python3",
      "display_name": "Python 3"
    },
    "language_info": {
      "name": "python"
    }
  },
  "cells": [
    {
      "cell_type": "markdown",
      "metadata": {
        "id": "view-in-github",
        "colab_type": "text"
      },
      "source": [
        "<a href=\"https://colab.research.google.com/github/shengchishih/Leetcode/blob/main/1-Two_Sum_array_easy.ipynb\" target=\"_parent\"><img src=\"https://colab.research.google.com/assets/colab-badge.svg\" alt=\"Open In Colab\"/></a>"
      ]
    },
    {
      "cell_type": "markdown",
      "source": [
        "Given an array of integers nums and an integer target, return indices of the two numbers such that they add up to target.\n",
        "\n",
        "You may assume that each input would have exactly one solution, and you may not use the same element twice.\n",
        "\n",
        "You can return the answer in any order.\n",
        "\n",
        "Example 1:\n",
        "\n",
        "Input: nums $= [2,7,11,15]$, target $= 9$\n",
        "\n",
        "Output: $[0,1]$\n",
        "\n",
        "Explanation: Because nums $[0] +$ nums$[1] = 9$, we return $[0, 1]$.\n",
        "\n",
        "Example 2:\n",
        "\n",
        "Input: nums $=[3,2,4]$, target $= 6$\n",
        "\n",
        "Output: $[1,2]$\n",
        "\n",
        "Example 3:\n",
        "\n",
        "Input: nums $= [3,3]$, target $= 6$\n",
        "\n",
        "Output: $[0,1]$"
      ],
      "metadata": {
        "id": "B7XoMd314Bao"
      }
    },
    {
      "cell_type": "code",
      "execution_count": null,
      "metadata": {
        "id": "YTsk3NWV32pf"
      },
      "outputs": [],
      "source": [
        "def twoSum(nums, target):\n",
        "  for i, num_i in enumerate(nums):\n",
        "    if target-num_i in nums:\n",
        "      for j, num_j in enumerate(nums):\n",
        "        if j!= i and num_j==target-num_i:\n",
        "          return [i, j]"
      ]
    },
    {
      "cell_type": "code",
      "source": [
        "#Best Sol\n",
        "def twoSum2(nums,target):\n",
        "  dic={}\n",
        "  for i in range(len(nums)):\n",
        "    if target-nums[i] not in dic:\n",
        "      dic[nums[i]]=i\n",
        "    else:\n",
        "      return [dic[target-nums[i]],i]"
      ],
      "metadata": {
        "id": "LtafOguPf-NS"
      },
      "execution_count": null,
      "outputs": []
    },
    {
      "cell_type": "markdown",
      "source": [],
      "metadata": {
        "id": "pD76C8DF333N"
      }
    },
    {
      "cell_type": "code",
      "source": [
        "nums=[2,7,11,15]\n",
        "target=9\n",
        "enumerate(nums)\n",
        "\n",
        "nums1=[3,2,4]\n",
        "target1=6\n",
        "\n",
        "nums2=[3,3]"
      ],
      "metadata": {
        "id": "HtwPSDSU4cdK"
      },
      "execution_count": null,
      "outputs": []
    },
    {
      "cell_type": "code",
      "source": [
        "print(twoSum(nums2,6))"
      ],
      "metadata": {
        "id": "POqD-9CWoA7T",
        "colab": {
          "base_uri": "https://localhost:8080/"
        },
        "outputId": "d4655335-0825-4bc6-d2f3-01a650432420"
      },
      "execution_count": null,
      "outputs": [
        {
          "output_type": "stream",
          "name": "stdout",
          "text": [
            "[0, 1]\n"
          ]
        }
      ]
    },
    {
      "cell_type": "code",
      "source": [
        "def twoSum1(nums,target):\n",
        "  for i in nums:\n",
        "    if target-i in nums and target-i != i:\n",
        "      return [nums.index(i), nums.index(target-i)]"
      ],
      "metadata": {
        "id": "HkNsgzt4oJt_"
      },
      "execution_count": null,
      "outputs": []
    },
    {
      "cell_type": "code",
      "source": [
        "for i, num in enumerate(nums2):\n",
        "  print(i)\n",
        "  print(num)"
      ],
      "metadata": {
        "colab": {
          "base_uri": "https://localhost:8080/"
        },
        "id": "luE_PESpocxR",
        "outputId": "ed415f12-da2a-449a-828e-7b3710689666"
      },
      "execution_count": null,
      "outputs": [
        {
          "output_type": "stream",
          "name": "stdout",
          "text": [
            "0\n",
            "3\n",
            "1\n",
            "3\n"
          ]
        }
      ]
    },
    {
      "cell_type": "code",
      "source": [
        "dic={}\n",
        "dic[nums[0]]=0\n",
        "dic[nums[0]]\n",
        "print(dic)"
      ],
      "metadata": {
        "colab": {
          "base_uri": "https://localhost:8080/"
        },
        "id": "ivulKmYEhFcp",
        "outputId": "14d32c8a-462f-402a-bddd-9874b0925908"
      },
      "execution_count": null,
      "outputs": [
        {
          "output_type": "stream",
          "name": "stdout",
          "text": [
            "{2: 0}\n"
          ]
        }
      ]
    }
  ]
}