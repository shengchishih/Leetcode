{
  "nbformat": 4,
  "nbformat_minor": 0,
  "metadata": {
    "colab": {
      "provenance": [],
      "authorship_tag": "ABX9TyOBAtGQrpnAJbRg5eVxuCt9",
      "include_colab_link": true
    },
    "kernelspec": {
      "name": "python3",
      "display_name": "Python 3"
    },
    "language_info": {
      "name": "python"
    }
  },
  "cells": [
    {
      "cell_type": "markdown",
      "metadata": {
        "id": "view-in-github",
        "colab_type": "text"
      },
      "source": [
        "<a href=\"https://colab.research.google.com/github/shengchishih/Leetcode/blob/main/118-Pascal's_Triangle_array_easy.ipynb\" target=\"_parent\"><img src=\"https://colab.research.google.com/assets/colab-badge.svg\" alt=\"Open In Colab\"/></a>"
      ]
    },
    {
      "cell_type": "markdown",
      "source": [
        "Given an integer numRows, return the first numRows of Pascal's triangle.\n",
        "\n",
        "Example 1:\n",
        "\n",
        "Input: numRows = 5\n",
        "\n",
        "Output: $[[1],[1,1],[1,2,1],[1,3,3,1],[1,4,6,4,1]]$\n",
        "\n",
        "Example 2:\n",
        "\n",
        "Input: numRows = 1\n",
        "\n",
        "Output: $[[1]]$\n"
      ],
      "metadata": {
        "id": "JjLHS1Oe2gyr"
      }
    },
    {
      "cell_type": "code",
      "execution_count": null,
      "metadata": {
        "id": "Cmb7cFga2Xcj"
      },
      "outputs": [],
      "source": [
        "def generate(numRows):\n",
        "  if not numRows:\n",
        "    return []\n",
        "  pasTri=[[1]]\n",
        "  for i in range(1,numRows):\n",
        "    tem=[1]\n",
        "    for j in range(1,i):\n",
        "      tem.append(pasTri[i-1][j-1]+pasTri[i-1][j])\n",
        "    tem.append(1)\n",
        "    pasTri.append(tem)\n",
        "  return pasTri"
      ]
    },
    {
      "cell_type": "code",
      "source": [
        "numRows1=5\n",
        "numRows2=1"
      ],
      "metadata": {
        "id": "aFWLUXQn4IvU"
      },
      "execution_count": null,
      "outputs": []
    },
    {
      "cell_type": "code",
      "source": [
        "generate(numRows1)"
      ],
      "metadata": {
        "colab": {
          "base_uri": "https://localhost:8080/"
        },
        "id": "AtkzEWKo4MxU",
        "outputId": "4659c027-7228-4b6f-aca6-ba61bfff2161"
      },
      "execution_count": null,
      "outputs": [
        {
          "output_type": "execute_result",
          "data": {
            "text/plain": [
              "[[1], [1, 1], [1, 2, 1], [1, 3, 3, 1], [1, 4, 6, 4, 1]]"
            ]
          },
          "metadata": {},
          "execution_count": 11
        }
      ]
    },
    {
      "cell_type": "code",
      "source": [],
      "metadata": {
        "id": "PbdE5ymH4TXK"
      },
      "execution_count": null,
      "outputs": []
    }
  ]
}